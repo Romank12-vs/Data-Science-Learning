# Data Science Tools and Ecosystem
# In this notebook, Data Science Tools and Ecosystem are summarized.
# **Objectives:**
- List popular languages for Data Science.
- Commonly used libraried used by Data Scientists.
- Data Science Tools.
- Few examples of evaluating arithmetic operations in Python
# Some of the Popular languages that Data Scientists use are:
1. Python
2. R
3. SQL
4. Julia
5. Scala
6. Javascript
# Some of the commonly used libraries used by Data Scientists include:
1. Pandas
2. Numpy
3. Scikit-learn
4. Matplotlib
5. Seaborn
# Table for Data Science Tools:
| Data Science Tools |
| ------------------ |
| Jupyter Notebooks |
| R Studio's |
| Zeppelin Notebooks |
### Below are a few examples of evaluating arithmetic operations in Python.
# This a simple arithmetic expression to multiply then add integers.
print((3*4) + 5)
17
# This will convert 200 minutes to hours by dividing by 60

print(200 / 60)
3.3333333333333335
## Author
Romank Sadhwani
